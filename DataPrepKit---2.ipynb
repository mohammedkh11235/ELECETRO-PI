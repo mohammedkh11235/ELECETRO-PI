{
 "cells": [
  {
   "cell_type": "code",
   "execution_count": 1,
   "id": "1db1c7d7-ee07-47de-8718-e8745dc1ebb5",
   "metadata": {},
   "outputs": [],
   "source": [
    "import pandas as pd\n",
    "import numpy as np\n",
    "import sqlite3"
   ]
  },
  {
   "cell_type": "code",
   "execution_count": 2,
   "id": "70583870-7046-4f5a-a559-3944625e0310",
   "metadata": {},
   "outputs": [],
   "source": [
    "class DataPrepKit:\n",
    "    def _init_(self, data):\n",
    "        self.data = data\n",
    "\n",
    "    def read_data(self, file_path):\n",
    "        file_extension = file_path.split('.')[-1].lower()\n",
    "\n",
    "        if file_extension == 'csv':\n",
    "            self.data = pd.read_csv(file_path)\n",
    "        elif file_extension == 'xlsx' or file_extension == 'xls':\n",
    "            self.data = pd.read_excel(file_path)\n",
    "        elif file_extension == 'json':\n",
    "            self.data = pd.read_json(file_path)\n",
    "        else:\n",
    "            raise ValueError('Unsupported file format.')\n",
    "\n",
    "    def data_summary(self):\n",
    "        summary = {\n",
    "            'mean': self.data.mean(),\n",
    "            'most_frequent': self.data.mode().iloc[0]\n",
    "            # Add more summary statistics as needed\n",
    "        }\n",
    "        return summary\n",
    "\n",
    "    def handle_missing_values(self, strategy='remove'):\n",
    "        if strategy == 'remove':\n",
    "            self.data = self.data.dropna()\n",
    "        elif strategy == 'impute':\n",
    "            # Implement imputation logic here\n",
    "            pass\n",
    "\n",
    "    def encode_categorical_data(self):\n",
    "        encoded_data = pd.get_dummies(self.data)\n",
    "        return encoded_data\n",
    "\n",
    "    def save_to_database(self, db_file, table_name):\n",
    "        conn = sqlite3.connect(db_file)\n",
    "        self.data.to_sql(table_name, conn, if_exists='replace', index=False)\n",
    "        conn.close()\n"
   ]
  },
  {
   "cell_type": "code",
   "execution_count": null,
   "id": "e78283a8-a1c4-45a9-a318-a6d5b9f81b74",
   "metadata": {},
   "outputs": [],
   "source": [
    "# Example usage\n",
    "data_prep = DataPrepKit()\n",
    "\n",
    "# Ask user to input data path\n",
    "data_path = input(\"Enter the path to the data file: \")\n",
    "\n",
    "# Read data from the specified file\n",
    "data_prep.read_data(data_path)\n",
    "\n",
    "# Generate data summary\n",
    "summary = data_prep.data_summary()\n",
    "print(summary)\n",
    "\n",
    "# Handle missing values\n",
    "data_prep.handle_missing_values(strategy='remove')\n",
    "\n",
    "# Encode categorical data\n",
    "encoded_data = data_prep.encode_categorical_data()\n",
    "print(encoded_data.head())\n",
    "\n",
    "# Save data to a database\n",
    "data_prep.save_to_database('data.db', 'my_table')"
   ]
  },
  {
   "cell_type": "code",
   "execution_count": null,
   "id": "e5e2ce91-2729-4734-899f-c0f5334c8647",
   "metadata": {},
   "outputs": [],
   "source": []
  }
 ],
 "metadata": {
  "kernelspec": {
   "display_name": "Python 3 (ipykernel)",
   "language": "python",
   "name": "python3"
  },
  "language_info": {
   "codemirror_mode": {
    "name": "ipython",
    "version": 3
   },
   "file_extension": ".py",
   "mimetype": "text/x-python",
   "name": "python",
   "nbconvert_exporter": "python",
   "pygments_lexer": "ipython3",
   "version": "3.11.7"
  }
 },
 "nbformat": 4,
 "nbformat_minor": 5
}
